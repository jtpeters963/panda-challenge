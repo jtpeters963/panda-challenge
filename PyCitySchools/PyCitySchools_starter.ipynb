{
 "cells": [
  {
   "cell_type": "markdown",
   "metadata": {},
   "source": [
    "### Note\n",
    "* Instructions have been included for each segment. You do not have to follow them exactly, but they are included to help you think through the steps."
   ]
  },
  {
   "cell_type": "code",
   "execution_count": null,
   "metadata": {},
   "outputs": [],
   "source": [
    "# Dependencies and Setup\n",
    "import pandas as pd\n",
    "\n",
    "# File to Load (Remember to Change These)\n",
    "school_data_to_load = \"Resources/schools_complete.csv\"\n",
    "student_data_to_load = \"Resources/students_complete.csv\"\n",
    "\n",
    "# Read School and Student Data File and store into Pandas Data Frames\n",
    "school_data = pd.read_csv(school_data_to_load)\n",
    "student_data = pd.read_csv(student_data_to_load)\n",
    "\n",
    "# Combine the data into a single dataset\n",
    "sd = pd.merge(student_data, school_data, how=\"left\", on=[\"school_name\", \"school_name\"])\n",
    "numstu = sd['Student ID'].count()\n",
    "sd_grouped = sd.groupby(['school_name'])\n",
    "school_average = sd_grouped.mean()\n",
    "numschl = sd['school_name'].nunique()\n",
    "rdscr = school_average['reading_score'].mean()\n",
    "psrd = sd['Student ID'].loc[sd['reading_score']>=70].count()\n",
    "mthscr = school_average['math_score'].mean()\n",
    "psmth = sd['Student ID'].loc[sd['math_score']>=70].count()\n",
    "pctrd = round(psrd/numstu,3) * 100\n",
    "pctmth = round(psmth/numstu,3) * 100\n",
    "pctpas = round((pctrd + pctmth)/2)\n",
    "totbudg = school_data['budget'].sum()"
   ]
  },
  {
   "cell_type": "markdown",
   "metadata": {},
   "source": [
    "## District Summary\n",
    "\n",
    "* Calculate the total number of schools\n",
    "\n",
    "* Calculate the total number of students\n",
    "\n",
    "* Calculate the total budget\n",
    "\n",
    "* Calculate the average math score \n",
    "\n",
    "* Calculate the average reading score\n",
    "\n",
    "* Calculate the overall passing rate (overall average score), i.e. (avg. math score + avg. reading score)/2\n",
    "\n",
    "* Calculate the percentage of students with a passing math score (70 or greater)\n",
    "\n",
    "* Calculate the percentage of students with a passing reading score (70 or greater)\n",
    "\n",
    "* Create a dataframe to hold the above results\n",
    "\n",
    "* Optional: give the displayed data cleaner formatting"
   ]
  },
  {
   "cell_type": "code",
   "execution_count": null,
   "metadata": {},
   "outputs": [],
   "source": [
    "ds=pd.DataFrame( {'Total Schools':numschl, 'Total Students':numstu,'Total Budget':totbudg, \n",
    "       'Math:Average Score':mthscr, 'Math:Percent Passed':pctmth,\n",
    "      'Reading: Average Score':[rdscr], 'Reading:Percent Passed':pctrd, \n",
    "     'Percent Passed Avg': pctpas})\n",
    "ds['Total Budget']=ds['Total Budget'].map(\"${:,.2f}\".format)\n",
    "ds['Total Students']=ds['Total Students'].map(\"{:,}\".format)\n",
    "ds = ds.set_index('Total Schools')\n",
    "ds.head()\n",
    "\n"
   ]
  },
  {
   "cell_type": "markdown",
   "metadata": {},
   "source": [
    "## School Summary"
   ]
  },
  {
   "cell_type": "markdown",
   "metadata": {},
   "source": [
    "* Create an overview table that summarizes key metrics about each school, including:\n",
    "  * School Name\n",
    "  * School Type\n",
    "  * Total Students\n",
    "  * Total School Budget\n",
    "  * Per Student Budget\n",
    "  * Average Math Score\n",
    "  * Average Reading Score\n",
    "  * % Passing Math\n",
    "  * % Passing Reading\n",
    "  * Overall Passing Rate (Average of the above two)\n",
    "  \n",
    "* Create a dataframe to hold the above results"
   ]
  },
  {
   "cell_type": "code",
   "execution_count": null,
   "metadata": {},
   "outputs": [],
   "source": [
    "del school_average['Student ID']\n",
    "del school_average['School ID']\n",
    "del school_average['size']\n",
    "del school_average['budget']\n",
    "del school_data['School ID']\n",
    "ss = pd.merge(school_data, school_average, how=\"left\", on=[\"school_name\", \"school_name\"])\n",
    "psmth = sd.loc[sd['math_score']>=70]\n",
    "psmth_byschool = psmth.groupby(['school_name'])['math_score'].count()\n",
    "psrd = sd.loc[sd['reading_score']>=70]\n",
    "psrd = psrd.groupby(['school_name'])['reading_score'].count()\n",
    "ss['Per Student Budget']=ss['budget']/ss['size']\n",
    "ss = pd.merge(ss, psrd, how=\"left\", on=[\"school_name\", \"school_name\"])\n",
    "ss = pd.merge(ss, psmth_byschool, how=\"left\", on=[\"school_name\", \"school_name\"])\n",
    "ss['% Passing Math']= ss['math_score_y']/ss['size']*100\n",
    "ss['% Passing Reading'] = ss['reading_score_y']/ss['size']*100\n",
    "ss['% Overall Passing Rate'] = (ss['% Passing Math']+ss['% Passing Reading'])/2\n",
    "ss = ss.rename(columns={'type':'School Type','size':'Total Students', 'budget':'Total School Budget',\n",
    "    'reading_score_x':'Average Reading Score',  'math_score_x':'Average Math Score'})\n",
    "del ss['reading_score_y']\n",
    "del ss['math_score_y']\n",
    "ss = ss [['school_name','School Type', 'Total Students', 'Total School Budget', 'Per Student Budget', \n",
    "          'Average Math Score', 'Average Reading Score', '% Passing Math', '% Passing Reading',\n",
    "         '% Overall Passing Rate']]\n",
    "ss.head()"
   ]
  },
  {
   "cell_type": "markdown",
   "metadata": {},
   "source": [
    "## Top Performing Schools (By Passing Rate)"
   ]
  },
  {
   "cell_type": "markdown",
   "metadata": {},
   "source": [
    "* Sort and display the top five schools in overall passing rate"
   ]
  },
  {
   "cell_type": "code",
   "execution_count": null,
   "metadata": {},
   "outputs": [],
   "source": [
    "top_performing= ss.sort_values('% Overall Passing Rate', ascending = False)\n",
    "top_performing['Total School Budget']=top_performing['Total School Budget'].map(\"${:,.2f}\".format)\n",
    "top_performing['Per Student Budget']=top_performing['Per Student Budget'].map(\"${:.2f}\".format)\n",
    "top_performing=top_performing.set_index('school_name')\n",
    "top_performing=top_performing.rename_axis(None)\n",
    "top_performing.head(5)"
   ]
  },
  {
   "cell_type": "markdown",
   "metadata": {},
   "source": [
    "## Bottom Performing Schools (By Passing Rate)"
   ]
  },
  {
   "cell_type": "markdown",
   "metadata": {},
   "source": [
    "* Sort and display the five worst-performing schools"
   ]
  },
  {
   "cell_type": "code",
   "execution_count": null,
   "metadata": {},
   "outputs": [],
   "source": [
    "bottom_performing = ss.sort_values('% Overall Passing Rate')\n",
    "bottom_performing['Total School Budget']=bottom_performing['Total School Budget'].map(\"${:,.2f}\".format)\n",
    "bottom_performing['Per Student Budget']=bottom_performing['Per Student Budget'].map(\"${:.2f}\".format)\n",
    "bottom_performing=bottom_performing.set_index('school_name')\n",
    "bottom_performing=bottom_performing.rename_axis(None)\n",
    "bottom_performing.head(5)"
   ]
  },
  {
   "cell_type": "markdown",
   "metadata": {
    "collapsed": true
   },
   "source": [
    "## Math Scores by Grade"
   ]
  },
  {
   "cell_type": "markdown",
   "metadata": {},
   "source": [
    "* Create a table that lists the average Reading Score for students of each grade level (9th, 10th, 11th, 12th) at each school.\n",
    "\n",
    "  * Create a pandas series for each grade. Hint: use a conditional statement.\n",
    "  \n",
    "  * Group each series by school\n",
    "  \n",
    "  * Combine the series into a dataframe\n",
    "  \n",
    "  * Optional: give the displayed data cleaner formatting"
   ]
  },
  {
   "cell_type": "code",
   "execution_count": null,
   "metadata": {},
   "outputs": [],
   "source": [
    "sd=sd.rename(columns={'school_name':'School Name','grade':' '})\n",
    "sd=sd.replace('9th', ' 9th')\n",
    "avg_bygrade = sd.groupby(['School Name',' ']).mean()\n",
    "del avg_bygrade['School ID']\n",
    "del avg_bygrade['Student ID']\n",
    "del avg_bygrade['size']\n",
    "del avg_bygrade['budget']"
   ]
  },
  {
   "cell_type": "code",
   "execution_count": null,
   "metadata": {},
   "outputs": [],
   "source": [
    "avg_math = avg_bygrade.copy()\n",
    "del avg_math['reading_score']\n",
    "avg_math = avg_math.rename(columns={'math_score':''})\n",
    "a= avg_math.unstack(1)\n",
    "a = a.rename_axis(None)\n",
    "a"
   ]
  },
  {
   "cell_type": "markdown",
   "metadata": {},
   "source": [
    "## Reading Score by Grade "
   ]
  },
  {
   "cell_type": "markdown",
   "metadata": {},
   "source": [
    "* Perform the same operations as above for reading scores"
   ]
  },
  {
   "cell_type": "code",
   "execution_count": null,
   "metadata": {},
   "outputs": [],
   "source": [
    "avg_read = avg_bygrade.copy()\n",
    "del avg_read['math_score']\n",
    "avg_read=avg_read.rename(columns={'reading_score':''})\n",
    "b=avg_read.unstack(1)\n",
    "b = b.rename_axis(None)\n",
    "b"
   ]
  },
  {
   "cell_type": "markdown",
   "metadata": {},
   "source": [
    "## Scores by School Spending"
   ]
  },
  {
   "cell_type": "markdown",
   "metadata": {},
   "source": [
    "* Create a table that breaks down school performances based on average Spending Ranges (Per Student). Use 4 reasonable bins to group school spending. Include in the table each of the following:\n",
    "  * Average Math Score\n",
    "  * Average Reading Score\n",
    "  * % Passing Math\n",
    "  * % Passing Reading\n",
    "  * Overall Passing Rate (Average of the above two)"
   ]
  },
  {
   "cell_type": "code",
   "execution_count": null,
   "metadata": {},
   "outputs": [],
   "source": [
    "# Sample bins. Feel free to create your own bins.\n",
    "school_spending = ss.copy()\n",
    "spending_bins = [0, 585, 615, 645, 675]\n",
    "group_names = [\"<$585\", \"$585-615\", \"$615-645\", \"$645-675\"]\n",
    "school_spending[\"Spending Ranges (Per Student)\"] = pd.cut(school_spending[\"Per Student Budget\"], spending_bins, labels=group_names, include_lowest=True)\n",
    "del school_spending['Total Students']\n",
    "del school_spending['Total School Budget']\n",
    "del school_spending['Per Student Budget']\n",
    "c=school_spending.groupby(['Spending Ranges (Per Student)']).mean()\n",
    "c.head()"
   ]
  },
  {
   "cell_type": "markdown",
   "metadata": {},
   "source": [
    "## Scores by School Size"
   ]
  },
  {
   "cell_type": "markdown",
   "metadata": {},
   "source": [
    "* Perform the same operations as above, based on school size."
   ]
  },
  {
   "cell_type": "code",
   "execution_count": null,
   "metadata": {},
   "outputs": [],
   "source": [
    "# Sample bins. Feel free to create your own bins.\n",
    "school_size = ss.copy()\n",
    "size_bins = [0, 1000, 2000, 5000]\n",
    "group_names = [\"Small (<1000)\", \"Medium (1000-2000)\", \"Large (2000-5000)\"]\n",
    "school_size[\"School Size\"] = pd.cut(school_size[\"Total Students\"], size_bins, labels=group_names, include_lowest=True)\n",
    "del school_size['Total Students']\n",
    "del school_size['Total School Budget']\n",
    "del school_size['Per Student Budget']\n",
    "d=school_size.groupby(['School Size']).mean()\n",
    "d.head()"
   ]
  },
  {
   "cell_type": "markdown",
   "metadata": {},
   "source": [
    "## Scores by School Type"
   ]
  },
  {
   "cell_type": "markdown",
   "metadata": {},
   "source": [
    "* Perform the same operations as above, based on school type."
   ]
  },
  {
   "cell_type": "code",
   "execution_count": null,
   "metadata": {},
   "outputs": [],
   "source": [
    "school_type = ss.groupby(['School Type']).mean()\n",
    "del school_type['Total Students']\n",
    "del school_type['Total School Budget']\n",
    "del school_type['Per Student Budget']\n",
    "school_type.head()"
   ]
  },
  {
   "cell_type": "code",
   "execution_count": null,
   "metadata": {},
   "outputs": [],
   "source": []
  }
 ],
 "metadata": {
  "anaconda-cloud": {},
  "kernel_info": {
   "name": "python3"
  },
  "kernelspec": {
   "display_name": "Python [conda env:PythonData] *",
   "language": "python",
   "name": "conda-env-PythonData-py"
  },
  "language_info": {
   "codemirror_mode": {
    "name": "ipython",
    "version": 3
   },
   "file_extension": ".py",
   "mimetype": "text/x-python",
   "name": "python",
   "nbconvert_exporter": "python",
   "pygments_lexer": "ipython3",
   "version": "3.6.10"
  },
  "latex_envs": {
   "LaTeX_envs_menu_present": true,
   "autoclose": false,
   "autocomplete": true,
   "bibliofile": "biblio.bib",
   "cite_by": "apalike",
   "current_citInitial": 1,
   "eqLabelWithNumbers": true,
   "eqNumInitial": 1,
   "hotkeys": {
    "equation": "Ctrl-E",
    "itemize": "Ctrl-I"
   },
   "labels_anchors": false,
   "latex_user_defs": false,
   "report_style_numbering": false,
   "user_envs_cfg": false
  },
  "nteract": {
   "version": "0.8.4"
  }
 },
 "nbformat": 4,
 "nbformat_minor": 1
}
